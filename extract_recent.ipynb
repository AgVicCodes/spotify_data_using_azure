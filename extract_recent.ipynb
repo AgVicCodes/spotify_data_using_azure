{
 "cells": [
  {
   "cell_type": "code",
   "execution_count": 3,
   "id": "25082b2c-983c-48a5-9460-1bf01adb26a9",
   "metadata": {},
   "outputs": [],
   "source": [
    "import json\n",
    "import spotipy\n",
    "from spotipy.oauth2 import SpotifyOAuth"
   ]
  },
  {
   "cell_type": "code",
   "execution_count": 5,
   "id": "e5fa247d-626d-4341-a85e-6e9765e7b4c8",
   "metadata": {},
   "outputs": [],
   "source": [
    "with open(\"keys.json\") as file:\n",
    "    keys = json.load(file)\n",
    "\n",
    "client = SpotifyOAuth(\n",
    "    client_id = keys[\"client_id\"], \n",
    "    client_secret = keys[\"client_secret_key\"], \n",
    "    redirect_uri = keys[\"redirect_uri\"], \n",
    "    scope = \"user-read-recently-played\"\n",
    ")\n",
    "\n",
    "sp = spotipy.Spotify(auth_manager = client)\n",
    "\n",
    "recently_played = sp.current_user_recently_played(limit = 50, after = \"1727391600\")\n",
    "\n",
    "with open(\"recently_played3.json\", \"w\") as file:\n",
    "    json.dump(recently_played, file, indent = 4)"
   ]
  }
 ],
 "metadata": {
  "kernelspec": {
   "display_name": "Python 3 (ipykernel)",
   "language": "python",
   "name": "python3"
  },
  "language_info": {
   "codemirror_mode": {
    "name": "ipython",
    "version": 3
   },
   "file_extension": ".py",
   "mimetype": "text/x-python",
   "name": "python",
   "nbconvert_exporter": "python",
   "pygments_lexer": "ipython3",
   "version": "3.11.9"
  }
 },
 "nbformat": 4,
 "nbformat_minor": 5
}
