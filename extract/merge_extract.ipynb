{
 "cells": [
  {
   "cell_type": "code",
   "execution_count": 4,
   "id": "2d34822a-8e75-44be-95a8-fddd03335217",
   "metadata": {},
   "outputs": [],
   "source": [
    "from glob import glob as gg\n",
    "import pandas as pd\n",
    "import json\n",
    "import spotipy\n",
    "from extract import sp"
   ]
  },
  {
   "cell_type": "code",
   "execution_count": 9,
   "id": "f6fc0ac0-f62c-4c83-a880-5a8fe072a9ba",
   "metadata": {},
   "outputs": [],
   "source": [
    "# pip install spotipy"
   ]
  },
  {
   "cell_type": "code",
   "execution_count": 26,
   "id": "3ec95fff-3eb1-457c-b8c0-620dfe6650f0",
   "metadata": {},
   "outputs": [
    {
     "name": "stdout",
     "output_type": "stream",
     "text": [
      "6KbNK42tdMfiK0s7nkE63o\n"
     ]
    }
   ],
   "source": [
    "# json_files = gg(f\"recently_played*.json\")\n",
    "\n",
    "# df = pd.DataFrame()\n",
    "\n",
    "# for file in json_files:\n",
    "#     with open(file) as f:\n",
    "#         data = json.load(f)\n",
    "#     # print(type(file))\n",
    "#     # print(file)\n",
    "#     temp = pd.DataFrame.from_dict(data)\n",
    "#     # df = df._append(temp)\n",
    "\n",
    "# df.head()\n",
    "\n",
    "with open(\"recently_played1.json\", \"r\") as file:\n",
    "    data = json.load(file)\n",
    "\n",
    "print(data[\"items\"][0][\"track\"][\"album\"][\"id\"])\n",
    "\n",
    "song_url = data[\"items\"][0][\"track\"][\"album\"][\"id\"]"
   ]
  },
  {
   "cell_type": "code",
   "execution_count": 30,
   "id": "79331328-971c-4730-b8df-ef7f4bc8efc6",
   "metadata": {},
   "outputs": [
    {
     "name": "stderr",
     "output_type": "stream",
     "text": [
      "HTTP Error for GET to https://api.spotify.com/v1/audio-analysis/6KbNK42tdMfiK0s7nkE63o with Params: {} returned 404 due to analysis not found\n"
     ]
    },
    {
     "ename": "SpotifyException",
     "evalue": "http status: 404, code:-1 - https://api.spotify.com/v1/audio-analysis/6KbNK42tdMfiK0s7nkE63o:\n analysis not found, reason: None",
     "output_type": "error",
     "traceback": [
      "\u001b[1;31m---------------------------------------------------------------------------\u001b[0m",
      "\u001b[1;31mHTTPError\u001b[0m                                 Traceback (most recent call last)",
      "File \u001b[1;32m~\\AppData\\Roaming\\Python\\Python311\\site-packages\\spotipy\\client.py:275\u001b[0m, in \u001b[0;36mSpotify._internal_call\u001b[1;34m(self, method, url, payload, params)\u001b[0m\n\u001b[0;32m    270\u001b[0m response \u001b[38;5;241m=\u001b[39m \u001b[38;5;28mself\u001b[39m\u001b[38;5;241m.\u001b[39m_session\u001b[38;5;241m.\u001b[39mrequest(\n\u001b[0;32m    271\u001b[0m     method, url, headers\u001b[38;5;241m=\u001b[39mheaders, proxies\u001b[38;5;241m=\u001b[39m\u001b[38;5;28mself\u001b[39m\u001b[38;5;241m.\u001b[39mproxies,\n\u001b[0;32m    272\u001b[0m     timeout\u001b[38;5;241m=\u001b[39m\u001b[38;5;28mself\u001b[39m\u001b[38;5;241m.\u001b[39mrequests_timeout, \u001b[38;5;241m*\u001b[39m\u001b[38;5;241m*\u001b[39margs\n\u001b[0;32m    273\u001b[0m )\n\u001b[1;32m--> 275\u001b[0m response\u001b[38;5;241m.\u001b[39mraise_for_status()\n\u001b[0;32m    276\u001b[0m results \u001b[38;5;241m=\u001b[39m response\u001b[38;5;241m.\u001b[39mjson()\n",
      "File \u001b[1;32mC:\\ProgramData\\anaconda3\\envs\\R\\Lib\\site-packages\\requests\\models.py:1021\u001b[0m, in \u001b[0;36mResponse.raise_for_status\u001b[1;34m(self)\u001b[0m\n\u001b[0;32m   1020\u001b[0m \u001b[38;5;28;01mif\u001b[39;00m http_error_msg:\n\u001b[1;32m-> 1021\u001b[0m     \u001b[38;5;28;01mraise\u001b[39;00m HTTPError(http_error_msg, response\u001b[38;5;241m=\u001b[39m\u001b[38;5;28mself\u001b[39m)\n",
      "\u001b[1;31mHTTPError\u001b[0m: 404 Client Error: Not Found for url: https://api.spotify.com/v1/audio-analysis/6KbNK42tdMfiK0s7nkE63o",
      "\nDuring handling of the above exception, another exception occurred:\n",
      "\u001b[1;31mSpotifyException\u001b[0m                          Traceback (most recent call last)",
      "Cell \u001b[1;32mIn[30], line 1\u001b[0m\n\u001b[1;32m----> 1\u001b[0m analytics \u001b[38;5;241m=\u001b[39m sp\u001b[38;5;241m.\u001b[39maudio_analysis(song_url)\n",
      "File \u001b[1;32m~\\AppData\\Roaming\\Python\\Python311\\site-packages\\spotipy\\client.py:1741\u001b[0m, in \u001b[0;36mSpotify.audio_analysis\u001b[1;34m(self, track_id)\u001b[0m\n\u001b[0;32m   1736\u001b[0m \u001b[38;5;250m\u001b[39m\u001b[38;5;124;03m\"\"\" Get audio analysis for a track based upon its Spotify ID\u001b[39;00m\n\u001b[0;32m   1737\u001b[0m \u001b[38;5;124;03m    Parameters:\u001b[39;00m\n\u001b[0;32m   1738\u001b[0m \u001b[38;5;124;03m        - track_id - a track URI, URL or ID\u001b[39;00m\n\u001b[0;32m   1739\u001b[0m \u001b[38;5;124;03m\"\"\"\u001b[39;00m\n\u001b[0;32m   1740\u001b[0m trid \u001b[38;5;241m=\u001b[39m \u001b[38;5;28mself\u001b[39m\u001b[38;5;241m.\u001b[39m_get_id(\u001b[38;5;124m\"\u001b[39m\u001b[38;5;124mtrack\u001b[39m\u001b[38;5;124m\"\u001b[39m, track_id)\n\u001b[1;32m-> 1741\u001b[0m \u001b[38;5;28;01mreturn\u001b[39;00m \u001b[38;5;28mself\u001b[39m\u001b[38;5;241m.\u001b[39m_get(\u001b[38;5;124m\"\u001b[39m\u001b[38;5;124maudio-analysis/\u001b[39m\u001b[38;5;124m\"\u001b[39m \u001b[38;5;241m+\u001b[39m trid)\n",
      "File \u001b[1;32m~\\AppData\\Roaming\\Python\\Python311\\site-packages\\spotipy\\client.py:327\u001b[0m, in \u001b[0;36mSpotify._get\u001b[1;34m(self, url, args, payload, **kwargs)\u001b[0m\n\u001b[0;32m    324\u001b[0m \u001b[38;5;28;01mif\u001b[39;00m args:\n\u001b[0;32m    325\u001b[0m     kwargs\u001b[38;5;241m.\u001b[39mupdate(args)\n\u001b[1;32m--> 327\u001b[0m \u001b[38;5;28;01mreturn\u001b[39;00m \u001b[38;5;28mself\u001b[39m\u001b[38;5;241m.\u001b[39m_internal_call(\u001b[38;5;124m\"\u001b[39m\u001b[38;5;124mGET\u001b[39m\u001b[38;5;124m\"\u001b[39m, url, payload, kwargs)\n",
      "File \u001b[1;32m~\\AppData\\Roaming\\Python\\Python311\\site-packages\\spotipy\\client.py:297\u001b[0m, in \u001b[0;36mSpotify._internal_call\u001b[1;34m(self, method, url, payload, params)\u001b[0m\n\u001b[0;32m    290\u001b[0m         reason \u001b[38;5;241m=\u001b[39m \u001b[38;5;28;01mNone\u001b[39;00m\n\u001b[0;32m    292\u001b[0m     logger\u001b[38;5;241m.\u001b[39merror(\n\u001b[0;32m    293\u001b[0m         \u001b[38;5;124m'\u001b[39m\u001b[38;5;124mHTTP Error for \u001b[39m\u001b[38;5;132;01m%s\u001b[39;00m\u001b[38;5;124m to \u001b[39m\u001b[38;5;132;01m%s\u001b[39;00m\u001b[38;5;124m with Params: \u001b[39m\u001b[38;5;132;01m%s\u001b[39;00m\u001b[38;5;124m returned \u001b[39m\u001b[38;5;132;01m%s\u001b[39;00m\u001b[38;5;124m due to \u001b[39m\u001b[38;5;132;01m%s\u001b[39;00m\u001b[38;5;124m'\u001b[39m,\n\u001b[0;32m    294\u001b[0m         method, url, args\u001b[38;5;241m.\u001b[39mget(\u001b[38;5;124m\"\u001b[39m\u001b[38;5;124mparams\u001b[39m\u001b[38;5;124m\"\u001b[39m), response\u001b[38;5;241m.\u001b[39mstatus_code, msg\n\u001b[0;32m    295\u001b[0m     )\n\u001b[1;32m--> 297\u001b[0m     \u001b[38;5;28;01mraise\u001b[39;00m SpotifyException(\n\u001b[0;32m    298\u001b[0m         response\u001b[38;5;241m.\u001b[39mstatus_code,\n\u001b[0;32m    299\u001b[0m         \u001b[38;5;241m-\u001b[39m\u001b[38;5;241m1\u001b[39m,\n\u001b[0;32m    300\u001b[0m         \u001b[38;5;124mf\u001b[39m\u001b[38;5;124m\"\u001b[39m\u001b[38;5;132;01m{\u001b[39;00mresponse\u001b[38;5;241m.\u001b[39murl\u001b[38;5;132;01m}\u001b[39;00m\u001b[38;5;124m:\u001b[39m\u001b[38;5;130;01m\\n\u001b[39;00m\u001b[38;5;124m \u001b[39m\u001b[38;5;132;01m{\u001b[39;00mmsg\u001b[38;5;132;01m}\u001b[39;00m\u001b[38;5;124m\"\u001b[39m,\n\u001b[0;32m    301\u001b[0m         reason\u001b[38;5;241m=\u001b[39mreason,\n\u001b[0;32m    302\u001b[0m         headers\u001b[38;5;241m=\u001b[39mresponse\u001b[38;5;241m.\u001b[39mheaders,\n\u001b[0;32m    303\u001b[0m     )\n\u001b[0;32m    304\u001b[0m \u001b[38;5;28;01mexcept\u001b[39;00m requests\u001b[38;5;241m.\u001b[39mexceptions\u001b[38;5;241m.\u001b[39mRetryError \u001b[38;5;28;01mas\u001b[39;00m retry_error:\n\u001b[0;32m    305\u001b[0m     request \u001b[38;5;241m=\u001b[39m retry_error\u001b[38;5;241m.\u001b[39mrequest\n",
      "\u001b[1;31mSpotifyException\u001b[0m: http status: 404, code:-1 - https://api.spotify.com/v1/audio-analysis/6KbNK42tdMfiK0s7nkE63o:\n analysis not found, reason: None"
     ]
    }
   ],
   "source": [
    "analytics = sp.audio_analysis(song_url)"
   ]
  },
  {
   "cell_type": "code",
   "execution_count": 28,
   "id": "ee5872be-1b89-4208-8439-59fd229b863e",
   "metadata": {},
   "outputs": [
    {
     "name": "stdout",
     "output_type": "stream",
     "text": [
      "{'tracks': [None]}\n"
     ]
    }
   ],
   "source": [
    "print(analytics)"
   ]
  }
 ],
 "metadata": {
  "kernelspec": {
   "display_name": "Python 3 (ipykernel)",
   "language": "python",
   "name": "python3"
  },
  "language_info": {
   "codemirror_mode": {
    "name": "ipython",
    "version": 3
   },
   "file_extension": ".py",
   "mimetype": "text/x-python",
   "name": "python",
   "nbconvert_exporter": "python",
   "pygments_lexer": "ipython3",
   "version": "3.11.9"
  }
 },
 "nbformat": 4,
 "nbformat_minor": 5
}
